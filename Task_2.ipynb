{
  "nbformat": 4,
  "nbformat_minor": 0,
  "metadata": {
    "colab": {
      "name": "Task_2.ipynb",
      "provenance": [],
      "collapsed_sections": [],
      "toc_visible": true
    },
    "kernelspec": {
      "name": "python3",
      "display_name": "Python 3"
    }
  },
  "cells": [
    {
      "cell_type": "markdown",
      "metadata": {
        "id": "OpfE9OF3W0jV"
      },
      "source": [
        "###**VEDANT KHATAVKAR**\r\n",
        "\r\n",
        "# **The Spark Foundation- Data Science Internship Task-2**\r\n",
        "\r\n",
        "\r\n",
        "####Predicting the optimum number of clusters.\r\n",
        "###Some basics of K-means clustering"
      ]
    },
    {
      "cell_type": "markdown",
      "metadata": {
        "id": "5vVal_CrXGjP"
      },
      "source": [
        "#1.  Importing the Libraries"
      ]
    },
    {
      "cell_type": "code",
      "metadata": {
        "id": "ETSjFK0OX5hF"
      },
      "source": [
        "import numpy as np\r\n",
        "import matplotlib.pyplot as plt\r\n",
        "import pandas as pd"
      ],
      "execution_count": null,
      "outputs": []
    },
    {
      "cell_type": "markdown",
      "metadata": {
        "id": "w2LYB0cIXW8i"
      },
      "source": [
        "#2. Importing the Dataset"
      ]
    },
    {
      "cell_type": "code",
      "metadata": {
        "id": "PeVp1nw_YBwh"
      },
      "source": [
        "dataset = pd.read_csv('Iris.csv')\r\n",
        "x = dataset.iloc[:,[1,2,3,4]].values"
      ],
      "execution_count": null,
      "outputs": []
    },
    {
      "cell_type": "markdown",
      "metadata": {
        "id": "XbnCMDZnXaVZ"
      },
      "source": [
        "#3. Using the Elbow method to find the optimal number of clusters"
      ]
    },
    {
      "cell_type": "code",
      "metadata": {
        "colab": {
          "base_uri": "https://localhost:8080/",
          "height": 295
        },
        "id": "UrhdJl2GYcMX",
        "outputId": "68d7b7e6-2d6e-4fc2-c29f-5c35852f509e"
      },
      "source": [
        "from sklearn.cluster import KMeans\r\n",
        "wcss = []\r\n",
        "for i in range(1,11):\r\n",
        "  kmeans = KMeans(n_clusters = i, init = 'k-means++', random_state = 42)\r\n",
        "  kmeans.fit(x)\r\n",
        "  wcss.append(kmeans.inertia_)\r\n",
        "plt.plot(range(1,11), wcss)\r\n",
        "plt.title('The Elbow Method')\r\n",
        "plt.xlabel('No of Clusters')\r\n",
        "plt.ylabel('WCSS')\r\n",
        "plt.show()"
      ],
      "execution_count": null,
      "outputs": [
        {
          "output_type": "display_data",
          "data": {
            "image/png": "[encoded data removed]",
            "text/plain": [
              "<Figure size 432x288 with 1 Axes>"
            ]
          },
          "metadata": {
            "tags": [],
            "needs_background": "light"
          }
        }
      ]
    },
    {
      "cell_type": "markdown",
      "metadata": {
        "id": "cI0ha3pFd4k9"
      },
      "source": [
        ">You can clearly see why it is called 'The elbow method' from the above graph, the optimum clusters is where the elbow occurs. This is when the within cluster sum of squares (WCSS) doesn't decrease significantly with every iteration."
      ]
    },
    {
      "cell_type": "markdown",
      "metadata": {
        "id": "ze1v2uXyXodn"
      },
      "source": [
        "#4. Training the K-means model on the dataset"
      ]
    },
    {
      "cell_type": "markdown",
      "metadata": {
        "id": "cfhD7tRaecRR"
      },
      "source": [
        "> Applying kmeans to the dataset / Creating the kmeans classifier"
      ]
    },
    {
      "cell_type": "code",
      "metadata": {
        "id": "oEGbYvMPZ5xu"
      },
      "source": [
        "kmeans = KMeans(n_clusters = 3, init = 'k-means++', random_state = 45)\r\n",
        "y_kmeans = kmeans.fit_predict(x)"
      ],
      "execution_count": null,
      "outputs": []
    },
    {
      "cell_type": "markdown",
      "metadata": {
        "id": "yi--MyfbXyA-"
      },
      "source": [
        "#5. Visualising the clusters "
      ]
    },
    {
      "cell_type": "code",
      "metadata": {
        "colab": {
          "base_uri": "https://localhost:8080/",
          "height": 281
        },
        "id": "jM-XwPXBaWzv",
        "outputId": "38706c04-fff2-41a3-fc4d-4f3ecb1a2c94"
      },
      "source": [
        "plt.scatter(x[y_kmeans == 0, 0], x[y_kmeans == 0, 1], \r\n",
        "            s = 100, c = 'red', label = 'Iris-setosa')\r\n",
        "plt.scatter(x[y_kmeans == 1, 0], x[y_kmeans == 1, 1], \r\n",
        "            s = 100, c = 'yellow', label = 'Iris-versicolour')\r\n",
        "plt.scatter(x[y_kmeans == 2, 0], x[y_kmeans == 2, 1], \r\n",
        "            s = 100, c = 'green', label = 'Iris-virginica')\r\n",
        "\r\n",
        "# Plotting the centroids of the clusters\r\n",
        "plt.scatter(kmeans.cluster_centers_[:, 0], kmeans.cluster_centers_[:,1], \r\n",
        "            s = 100, c = 'black', label = 'Centroids')\r\n",
        "plt.title('Clusters of types of Iris')\r\n",
        "plt.legend()\r\n",
        "plt.show()"
      ],
      "execution_count": null,
      "outputs": [
        {
          "output_type": "display_data",
          "data": {
            "image/png": "[encoded data removed]",
            "text/plain": [
              "<Figure size 432x288 with 1 Axes>"
            ]
          },
          "metadata": {
            "tags": [],
            "needs_background": "light"
          }
        }
      ]
    }
  ]
}